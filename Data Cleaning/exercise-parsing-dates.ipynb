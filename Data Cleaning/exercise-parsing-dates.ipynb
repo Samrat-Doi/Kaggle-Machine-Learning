{
 "cells": [
  {
   "cell_type": "markdown",
   "metadata": {},
   "source": [
    "**This notebook is an exercise in the [Data Cleaning](https://www.kaggle.com/learn/data-cleaning) course.  You can reference the tutorial at [this link](https://www.kaggle.com/alexisbcook/parsing-dates).**\n",
    "\n",
    "---\n"
   ]
  },
  {
   "cell_type": "markdown",
   "metadata": {},
   "source": [
    "In this exercise, you'll apply what you learned in the **Parsing dates** tutorial.\n",
    "\n",
    "# Setup\n",
    "\n",
    "The questions below will give you feedback on your work. Run the following cell to set up the feedback system."
   ]
  },
  {
   "cell_type": "code",
   "execution_count": 1,
   "metadata": {
    "execution": {
     "iopub.execute_input": "2022-08-29T05:13:21.631774Z",
     "iopub.status.busy": "2022-08-29T05:13:21.631088Z",
     "iopub.status.idle": "2022-08-29T05:13:23.197825Z",
     "shell.execute_reply": "2022-08-29T05:13:23.196082Z",
     "shell.execute_reply.started": "2022-08-29T05:13:21.631673Z"
    }
   },
   "outputs": [],
   "source": [
    "from learntools.core import binder\n",
    "binder.bind(globals())\n",
    "from learntools.data_cleaning.ex3 import *\n",
    "print(\"Setup Complete\")"
   ]
  },
  {
   "cell_type": "markdown",
   "metadata": {},
   "source": [
    "# Get our environment set up\n",
    "\n",
    "The first thing we'll need to do is load in the libraries and dataset we'll be using. We'll be working with a dataset containing information on earthquakes that occured between 1965 and 2016."
   ]
  },
  {
   "cell_type": "code",
   "execution_count": 2,
   "metadata": {
    "execution": {
     "iopub.execute_input": "2022-08-29T05:13:28.652256Z",
     "iopub.status.busy": "2022-08-29T05:13:28.651776Z",
     "iopub.status.idle": "2022-08-29T05:13:28.751947Z",
     "shell.execute_reply": "2022-08-29T05:13:28.750452Z",
     "shell.execute_reply.started": "2022-08-29T05:13:28.652216Z"
    }
   },
   "outputs": [],
   "source": [
    "# modules we'll use\n",
    "import pandas as pd\n",
    "import numpy as np\n",
    "import seaborn as sns\n",
    "import datetime\n",
    "\n",
    "# read in our data\n",
    "earthquakes = pd.read_csv(\"../input/earthquake-database/database.csv\")\n",
    "\n",
    "# set seed for reproducibility\n",
    "np.random.seed(0)"
   ]
  },
  {
   "cell_type": "markdown",
   "metadata": {},
   "source": [
    "# 1) Check the data type of our date column\n",
    "\n",
    "You'll be working with the \"Date\" column from the `earthquakes` dataframe.  Investigate this column now: does it look like it contains dates?  What is the dtype of the column?"
   ]
  },
  {
   "cell_type": "code",
   "execution_count": 4,
   "metadata": {
    "execution": {
     "iopub.execute_input": "2022-08-29T05:14:54.221435Z",
     "iopub.status.busy": "2022-08-29T05:14:54.220825Z",
     "iopub.status.idle": "2022-08-29T05:14:54.233772Z",
     "shell.execute_reply": "2022-08-29T05:14:54.232505Z",
     "shell.execute_reply.started": "2022-08-29T05:14:54.221383Z"
    }
   },
   "outputs": [],
   "source": [
    "# TODO: Your code here!\n",
    "earthquakes[\"Date\"].dtype"
   ]
  },
  {
   "cell_type": "markdown",
   "metadata": {},
   "source": [
    "Once you have answered the question above, run the code cell below to get credit for your work."
   ]
  },
  {
   "cell_type": "code",
   "execution_count": 5,
   "metadata": {
    "execution": {
     "iopub.execute_input": "2022-08-29T05:14:57.111874Z",
     "iopub.status.busy": "2022-08-29T05:14:57.110953Z",
     "iopub.status.idle": "2022-08-29T05:14:57.122401Z",
     "shell.execute_reply": "2022-08-29T05:14:57.120982Z",
     "shell.execute_reply.started": "2022-08-29T05:14:57.111830Z"
    }
   },
   "outputs": [],
   "source": [
    "# Check your answer (Run this code cell to receive credit!)\n",
    "q1.check()"
   ]
  },
  {
   "cell_type": "code",
   "execution_count": null,
   "metadata": {},
   "outputs": [],
   "source": [
    "# Line below will give you a hint\n",
    "#q1.hint()"
   ]
  },
  {
   "cell_type": "markdown",
   "metadata": {},
   "source": [
    "# 2) Convert our date columns to datetime\n",
    "\n",
    "Most of the entries in the \"Date\" column follow the same format: \"month/day/four-digit year\".  However, the entry at index 3378 follows a completely different pattern.  Run the code cell below to see this."
   ]
  },
  {
   "cell_type": "code",
   "execution_count": 6,
   "metadata": {
    "execution": {
     "iopub.execute_input": "2022-08-29T05:15:06.822972Z",
     "iopub.status.busy": "2022-08-29T05:15:06.821828Z",
     "iopub.status.idle": "2022-08-29T05:15:06.858370Z",
     "shell.execute_reply": "2022-08-29T05:15:06.857560Z",
     "shell.execute_reply.started": "2022-08-29T05:15:06.822906Z"
    }
   },
   "outputs": [],
   "source": [
    "earthquakes[3378:3383]"
   ]
  },
  {
   "cell_type": "markdown",
   "metadata": {},
   "source": [
    "This does appear to be an issue with data entry: ideally, all entries in the column have the same format.  We can get an idea of how widespread this issue is by checking the length of each entry in the \"Date\" column."
   ]
  },
  {
   "cell_type": "code",
   "execution_count": 7,
   "metadata": {
    "execution": {
     "iopub.execute_input": "2022-08-29T05:15:24.851032Z",
     "iopub.status.busy": "2022-08-29T05:15:24.850582Z",
     "iopub.status.idle": "2022-08-29T05:15:24.874514Z",
     "shell.execute_reply": "2022-08-29T05:15:24.873249Z",
     "shell.execute_reply.started": "2022-08-29T05:15:24.850994Z"
    }
   },
   "outputs": [],
   "source": [
    "date_lengths = earthquakes.Date.str.len()\n",
    "date_lengths.value_counts()"
   ]
  },
  {
   "cell_type": "markdown",
   "metadata": {},
   "source": [
    "Looks like there are two more rows that has a date in a different format.  Run the code cell below to obtain the indices corresponding to those rows and print the data."
   ]
  },
  {
   "cell_type": "code",
   "execution_count": 8,
   "metadata": {
    "execution": {
     "iopub.execute_input": "2022-08-29T05:15:32.142164Z",
     "iopub.status.busy": "2022-08-29T05:15:32.141705Z",
     "iopub.status.idle": "2022-08-29T05:15:32.175057Z",
     "shell.execute_reply": "2022-08-29T05:15:32.173825Z",
     "shell.execute_reply.started": "2022-08-29T05:15:32.142127Z"
    }
   },
   "outputs": [],
   "source": [
    "indices = np.where([date_lengths == 24])[1]\n",
    "print('Indices with corrupted data:', indices)\n",
    "earthquakes.loc[indices]"
   ]
  },
  {
   "cell_type": "markdown",
   "metadata": {},
   "source": [
    "Given all of this information, it's your turn to create a new column \"date_parsed\" in the `earthquakes` dataset that has correctly parsed dates in it.  \n",
    "\n",
    "**Note**: When completing this problem, you are allowed to (but are not required to) amend the entries in the \"Date\" and \"Time\" columns.  Do not remove any rows from the dataset."
   ]
  },
  {
   "cell_type": "code",
   "execution_count": 13,
   "metadata": {
    "execution": {
     "iopub.execute_input": "2022-08-29T05:27:44.736342Z",
     "iopub.status.busy": "2022-08-29T05:27:44.734865Z",
     "iopub.status.idle": "2022-08-29T05:27:44.777914Z",
     "shell.execute_reply": "2022-08-29T05:27:44.776645Z",
     "shell.execute_reply.started": "2022-08-29T05:27:44.736275Z"
    }
   },
   "outputs": [],
   "source": [
    "# TODO: Your code here\n",
    "earthquakes.loc[3378, \"Date\"] = \"02/23/1975\"\n",
    "earthquakes.loc[7512, \"Date\"] = \"04/28/1985\"\n",
    "earthquakes.loc[20650, \"Date\"] = \"03/13/2011\"\n",
    "earthquakes['date_parsed'] = pd.to_datetime(earthquakes['Date'],infer_datetime_format=True, format=\"%m/%d/%y\" )\n",
    "# Check your answer\n",
    "q2.check()"
   ]
  },
  {
   "cell_type": "code",
   "execution_count": 14,
   "metadata": {
    "execution": {
     "iopub.execute_input": "2022-08-29T05:27:51.004631Z",
     "iopub.status.busy": "2022-08-29T05:27:51.004192Z",
     "iopub.status.idle": "2022-08-29T05:27:51.010192Z",
     "shell.execute_reply": "2022-08-29T05:27:51.008979Z",
     "shell.execute_reply.started": "2022-08-29T05:27:51.004595Z"
    }
   },
   "outputs": [],
   "source": [
    "# Lines below will give you a hint or solution code\n",
    "#q2.hint()\n",
    "#q2.solution()"
   ]
  },
  {
   "cell_type": "markdown",
   "metadata": {},
   "source": [
    "# 3) Select the day of the month\n",
    "\n",
    "Create a Pandas Series `day_of_month_earthquakes` containing the day of the month from the \"date_parsed\" column."
   ]
  },
  {
   "cell_type": "code",
   "execution_count": 15,
   "metadata": {
    "execution": {
     "iopub.execute_input": "2022-08-29T05:29:10.403467Z",
     "iopub.status.busy": "2022-08-29T05:29:10.402999Z",
     "iopub.status.idle": "2022-08-29T05:29:10.417473Z",
     "shell.execute_reply": "2022-08-29T05:29:10.416297Z",
     "shell.execute_reply.started": "2022-08-29T05:29:10.403420Z"
    }
   },
   "outputs": [],
   "source": [
    "# try to get the day of the month from the date column\n",
    "day_of_month_earthquakes = earthquakes['date_parsed'].dt.day\n",
    "\n",
    "# Check your answer\n",
    "q3.check()"
   ]
  },
  {
   "cell_type": "code",
   "execution_count": null,
   "metadata": {},
   "outputs": [],
   "source": [
    "# Lines below will give you a hint or solution code\n",
    "#q3.hint()\n",
    "#q3.solution()"
   ]
  },
  {
   "cell_type": "markdown",
   "metadata": {},
   "source": [
    "# 4) Plot the day of the month to check the date parsing\n",
    "\n",
    "Plot the days of the month from your earthquake dataset."
   ]
  },
  {
   "cell_type": "code",
   "execution_count": 16,
   "metadata": {
    "execution": {
     "iopub.execute_input": "2022-08-29T05:29:57.766502Z",
     "iopub.status.busy": "2022-08-29T05:29:57.765655Z",
     "iopub.status.idle": "2022-08-29T05:29:58.528290Z",
     "shell.execute_reply": "2022-08-29T05:29:58.527095Z",
     "shell.execute_reply.started": "2022-08-29T05:29:57.766454Z"
    }
   },
   "outputs": [],
   "source": [
    "# TODO: Your code here!\n",
    "sns.histplot(day_of_month_earthquakes)"
   ]
  },
  {
   "cell_type": "markdown",
   "metadata": {},
   "source": [
    "Does the graph make sense to you?"
   ]
  },
  {
   "cell_type": "code",
   "execution_count": 17,
   "metadata": {
    "execution": {
     "iopub.execute_input": "2022-08-29T05:30:02.249765Z",
     "iopub.status.busy": "2022-08-29T05:30:02.248981Z",
     "iopub.status.idle": "2022-08-29T05:30:02.259598Z",
     "shell.execute_reply": "2022-08-29T05:30:02.258042Z",
     "shell.execute_reply.started": "2022-08-29T05:30:02.249716Z"
    }
   },
   "outputs": [],
   "source": [
    "# Check your answer (Run this code cell to receive credit!)\n",
    "q4.check()"
   ]
  },
  {
   "cell_type": "code",
   "execution_count": null,
   "metadata": {},
   "outputs": [],
   "source": [
    "# Line below will give you a hint\n",
    "#q4.hint()"
   ]
  },
  {
   "cell_type": "markdown",
   "metadata": {},
   "source": [
    "# (Optional) Bonus Challenge\n",
    "\n",
    "For an extra challenge, you'll work with a [Smithsonian dataset](https://www.kaggle.com/smithsonian/volcanic-eruptions) that documents Earth's volcanoes and their eruptive history over the past 10,000 years \n",
    "\n",
    "Run the next code cell to load the data."
   ]
  },
  {
   "cell_type": "code",
   "execution_count": 18,
   "metadata": {
    "execution": {
     "iopub.execute_input": "2022-08-29T05:30:16.095765Z",
     "iopub.status.busy": "2022-08-29T05:30:16.094423Z",
     "iopub.status.idle": "2022-08-29T05:30:16.137454Z",
     "shell.execute_reply": "2022-08-29T05:30:16.136281Z",
     "shell.execute_reply.started": "2022-08-29T05:30:16.095716Z"
    }
   },
   "outputs": [],
   "source": [
    "volcanos = pd.read_csv(\"../input/volcanic-eruptions/database.csv\")"
   ]
  },
  {
   "cell_type": "markdown",
   "metadata": {},
   "source": [
    "Try parsing the column \"Last Known Eruption\" from the `volcanos` dataframe. This column contains a mixture of text (\"Unknown\") and years both before the common era (BCE, also known as BC) and in the common era (CE, also known as AD)."
   ]
  },
  {
   "cell_type": "code",
   "execution_count": 19,
   "metadata": {
    "execution": {
     "iopub.execute_input": "2022-08-29T05:30:19.280260Z",
     "iopub.status.busy": "2022-08-29T05:30:19.278522Z",
     "iopub.status.idle": "2022-08-29T05:30:19.292484Z",
     "shell.execute_reply": "2022-08-29T05:30:19.291237Z",
     "shell.execute_reply.started": "2022-08-29T05:30:19.280212Z"
    }
   },
   "outputs": [],
   "source": [
    "volcanos['Last Known Eruption'].sample(5)"
   ]
  },
  {
   "cell_type": "markdown",
   "metadata": {},
   "source": [
    "# (Optional) More practice\n",
    "\n",
    "If you're interested in graphing time series, [check out this tutorial](https://www.kaggle.com/residentmario/time-series-plotting-optional).\n",
    "\n",
    "You can also look into passing columns that you know have dates in them  the `parse_dates` argument in `read_csv`. (The documention [is here](https://pandas.pydata.org/pandas-docs/stable/generated/pandas.read_csv.html).) Do note that this method can be very slow, but depending on your needs it may sometimes be handy to use.\n",
    "\n",
    "# Keep going\n",
    "\n",
    "In the next lesson, learn how to [**work with character encodings**](https://www.kaggle.com/alexisbcook/character-encodings)."
   ]
  },
  {
   "cell_type": "markdown",
   "metadata": {},
   "source": [
    "---\n",
    "\n",
    "\n",
    "\n",
    "\n",
    "*Have questions or comments? Visit the [course discussion forum](https://www.kaggle.com/learn/data-cleaning/discussion) to chat with other learners.*"
   ]
  }
 ],
 "metadata": {
  "kernelspec": {
   "display_name": "Python 3 (ipykernel)",
   "language": "python",
   "name": "python3"
  },
  "language_info": {
   "codemirror_mode": {
    "name": "ipython",
    "version": 3
   },
   "file_extension": ".py",
   "mimetype": "text/x-python",
   "name": "python",
   "nbconvert_exporter": "python",
   "pygments_lexer": "ipython3",
   "version": "3.9.12"
  }
 },
 "nbformat": 4,
 "nbformat_minor": 4
}
